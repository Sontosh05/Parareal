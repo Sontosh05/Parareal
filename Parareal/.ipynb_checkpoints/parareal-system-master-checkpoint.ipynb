{
 "cells": [
  {
   "cell_type": "code",
   "execution_count": 1,
   "id": "41d2b5af",
   "metadata": {},
   "outputs": [
    {
     "data": {
      "text/plain": [
       "Lorenz (generic function with 1 method)"
      ]
     },
     "execution_count": 1,
     "metadata": {},
     "output_type": "execute_result"
    }
   ],
   "source": [
    "function Lorenz(::Type{T}, t, u) where T<:AbstractFloat\n",
    "    \n",
    "    sigma = 10 # parameters for Lorenz\n",
    "    r = 28 \n",
    "    b = 8/3\n",
    "    y1::T = sigma*(u[2]-u[1])\n",
    "    y2::T = r*u[1]-u[2]-u[1]*u[3]\n",
    "    y3::T = u[1]*u[2]-b*u[3]\n",
    "   \n",
    "    return [y1; y2 ; y3]\n",
    "end"
   ]
  },
  {
   "cell_type": "code",
   "execution_count": 8,
   "id": "b671ab4e",
   "metadata": {},
   "outputs": [
    {
     "data": {
      "text/plain": [
       "FE (generic function with 1 method)"
      ]
     },
     "execution_count": 8,
     "metadata": {},
     "output_type": "execute_result"
    }
   ],
   "source": [
    "using LinearAlgebra\n",
    "function FE(::Type{T}, f,  a, b, u0, N) where T<:AbstractFloat\n",
    "    ndf=length(u0)\n",
    "    u::Matrix{T}=zeros(ndf, N+1)\n",
    "    dt=(b-a)/N\n",
    "    t=Vector{T}(range(a, b, N+1))\n",
    "    u[:,1]=u0\n",
    "    for i in 1:N\n",
    "        u[i+1]=u[i] .+ dt* f(t[i], u[:, i])\n",
    "    end\n",
    "    return t, u\n",
    "end"
   ]
  },
  {
   "cell_type": "code",
   "execution_count": 11,
   "id": "c5b54ad7",
   "metadata": {},
   "outputs": [
    {
     "ename": "LoadError",
     "evalue": "MethodError: no method matching Lorenz(::Float64, ::Vector{Float64})\n\u001b[0mClosest candidates are:\n\u001b[0m  Lorenz(\u001b[91m::Type{T}\u001b[39m, ::Any, \u001b[91m::Any\u001b[39m) where T<:AbstractFloat at In[1]:1",
     "output_type": "error",
     "traceback": [
      "MethodError: no method matching Lorenz(::Float64, ::Vector{Float64})\n\u001b[0mClosest candidates are:\n\u001b[0m  Lorenz(\u001b[91m::Type{T}\u001b[39m, ::Any, \u001b[91m::Any\u001b[39m) where T<:AbstractFloat at In[1]:1",
      "",
      "Stacktrace:",
      " [1] FE(#unused#::Type{Float64}, f::typeof(Lorenz), a::Int64, b::Int64, u0::Vector{Int64}, N::Int64)",
      "   @ Main ./In[8]:9",
      " [2] top-level scope",
      "   @ In[11]:5"
     ]
    }
   ],
   "source": [
    "a=0\n",
    "b=1\n",
    "u0=[20, 5, -5]\n",
    "N=10\n",
    "t, u= FE(Float64, Lorenz, a, b, u0, N)"
   ]
  },
  {
   "cell_type": "code",
   "execution_count": null,
   "id": "1daad161",
   "metadata": {},
   "outputs": [],
   "source": []
  }
 ],
 "metadata": {
  "kernelspec": {
   "display_name": "Julia 1.7.1",
   "language": "julia",
   "name": "julia-1.7"
  },
  "language_info": {
   "file_extension": ".jl",
   "mimetype": "application/julia",
   "name": "julia",
   "version": "1.7.1"
  }
 },
 "nbformat": 4,
 "nbformat_minor": 5
}
