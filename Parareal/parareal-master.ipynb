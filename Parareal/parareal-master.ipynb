{
 "cells": [
  {
   "cell_type": "markdown",
   "id": "55d20c58",
   "metadata": {},
   "source": [
    "# General Type{T} Parareal algorithm"
   ]
  },
  {
   "cell_type": "code",
   "execution_count": 1,
   "id": "4f572f72",
   "metadata": {},
   "outputs": [
    {
     "data": {
      "text/plain": [
       "backeuler (generic function with 1 method)"
      ]
     },
     "execution_count": 1,
     "metadata": {},
     "output_type": "execute_result"
    }
   ],
   "source": [
    "# Backward Euler Method\n",
    "using LinearAlgebra\n",
    "function backeuler(::Type{T}, a, b, u0, N) where T<:AbstractFloat\n",
    "    u::Vector{T}=zeros(N+1)\n",
    "    dt=(b-a)/N\n",
    "    t=Vector{T}(range(a, b, N+1))\n",
    "    #Solving for du/dt= -u+sin(10t)\n",
    "    u[1]=u0\n",
    "    for i in 1:N\n",
    "        u[i+1]=(u[i].+ dt*sin(10*t[i+1]))/(1 + dt)\n",
    "    end\n",
    "    return t, u\n",
    "end"
   ]
  },
  {
   "cell_type": "code",
   "execution_count": 2,
   "id": "c0863239",
   "metadata": {},
   "outputs": [
    {
     "ename": "LoadError",
     "evalue": "UndefVarError: plot not defined",
     "output_type": "error",
     "traceback": [
      "UndefVarError: plot not defined",
      "",
      "Stacktrace:",
      " [1] top-level scope",
      "   @ In[2]:6"
     ]
    }
   ],
   "source": [
    "using Plots\n",
    "u0=1\n",
    "a=0\n",
    "b=10\n",
    "N=1800\n",
    "texact, uexact=backeuler(Float64, a, b, u0, N)\n",
    "plot(texact, uexact)"
   ]
  },
  {
   "cell_type": "code",
   "execution_count": 3,
   "id": "230a03b1",
   "metadata": {},
   "outputs": [
    {
     "data": {
      "text/plain": [
       "parareal (generic function with 1 method)"
      ]
     },
     "execution_count": 3,
     "metadata": {},
     "output_type": "execute_result"
    }
   ],
   "source": [
    "# Parareal method\n",
    "function parareal(::Type{T}, a, b, u0, N, F, G, K) where T<:AbstractFloat\n",
    "    tval=Vector(range(a, b, N+1))\n",
    "    Ufine::Array{T}=zeros(N+1)\n",
    "    Ufine[1] = u0\n",
    "    for i in 1:N\n",
    "        Ufine[i+1] = F(T, tval[i], tval[i+1], Ufine[i])\n",
    "    end\n",
    "    Uk=[Vector{T}(undef, N+1) for k in 1:K+1]\n",
    "    for k in 1:K+1\n",
    "        Uk[k][1]=u0\n",
    "    end\n",
    "    for j in 1:N\n",
    "        #Uk[1][j+1]=G(tval[j], tval[j+1], Uk[1][j])\n",
    "        Uk[1][j+1]=10.0 # may take random initial guess\n",
    "    end\n",
    "    for k in 1:K\n",
    "        for i in 1:N\n",
    "            \n",
    "            Fk0=F(T, tval[i], tval[i+1], Uk[k][i])\n",
    "            Gk0=G(T, tval[i], tval[i+1], Uk[k][i])\n",
    "            Gk1=G(T, tval[i], tval[i+1], Uk[k+1][i])\n",
    "            \n",
    "            Uk[k+1][i+1]=Fk0 + Gk1 - Gk0\n",
    "        end\n",
    "    end\n",
    "    \n",
    "    return Uk, Ufine, tval\n",
    "end"
   ]
  },
  {
   "cell_type": "code",
   "execution_count": 4,
   "id": "c139af74",
   "metadata": {},
   "outputs": [
    {
     "data": {
      "text/plain": [
       "Fs (generic function with 1 method)"
      ]
     },
     "execution_count": 4,
     "metadata": {},
     "output_type": "execute_result"
    }
   ],
   "source": [
    "function Fs(::Type{T},a, b, u0) where T<:AbstractFloat\n",
    "    t, u=backeuler(T, a, b, u0, nF)\n",
    "    return u[end]\n",
    "end"
   ]
  },
  {
   "cell_type": "code",
   "execution_count": 5,
   "id": "0e99285c",
   "metadata": {},
   "outputs": [
    {
     "data": {
      "text/plain": [
       "Gs (generic function with 1 method)"
      ]
     },
     "execution_count": 5,
     "metadata": {},
     "output_type": "execute_result"
    }
   ],
   "source": [
    "function Gs(::Type{T},a, b, u0) where T<:AbstractFloat\n",
    "    t, u=backeuler(T, a, b, u0, nG)\n",
    "    return u[end]\n",
    "end"
   ]
  },
  {
   "cell_type": "markdown",
   "id": "a9034dad",
   "metadata": {},
   "source": [
    "# Convergence analysis of Double Precision Parareal"
   ]
  },
  {
   "cell_type": "code",
   "execution_count": null,
   "id": "da34d2aa",
   "metadata": {
    "scrolled": false
   },
   "outputs": [],
   "source": [
    "a=0\n",
    "b=1\n",
    "u0=1\n",
    "nF=10 # Fine grid\n",
    "nG=1 # Coarse grid\n",
    "K=15 # Number of iteration\n",
    "p = 3\n",
    "N = zeros(p)\n",
    "for i in 1:p\n",
    "    N[i] = Int(floor(10^(i+4)))\n",
    "end\n",
    "\n",
    "err_double=zeros(p, K+1)\n",
    "# Parareal Solution\n",
    "for i in 1:p\n",
    "    # stroing errors\n",
    "    texact, uexact=backeuler(Float64, a, b, u0, convert(Int, N[i]))\n",
    "    for k in 1:K+1\n",
    "        Uk, Ufine, tval=parareal(Float64, a, b, u0, convert(Int, N[i]), Fs, Gs, k)\n",
    "        err_double[i, k]=norm(Uk[k] - Ufine)\n",
    "    end\n",
    "\n",
    "end\n",
    "\n",
    "using Plots\n",
    "plot(err_double[1,:], yaxis=:log, xlabel=\"Number of iterations\", ylabel=\"error\", label=\"N=10^3\", title=\"Double precision parareal\")\n",
    "for j in 2:p\n",
    "    plot!(err_double[j,:], yaxis=:log, xlabel=\"Number of iterations\", ylabel=\"error\", label=\"N=10^$(j+2)\")\n",
    "end\n",
    "display(plot!(legend=:topright))"
   ]
  },
  {
   "cell_type": "markdown",
   "id": "4d48e996",
   "metadata": {},
   "source": [
    "# Convergence analysis of Single Precision Parareal"
   ]
  },
  {
   "cell_type": "code",
   "execution_count": null,
   "id": "1f328fcf",
   "metadata": {},
   "outputs": [],
   "source": [
    "# Convergence Analysis in uniform single precision\n",
    "a=0\n",
    "b=1\n",
    "u0=1\n",
    "nF=1000 # Fine grid\n",
    "nG=15 # Coarse grid\n",
    "K=100 # Number of iteration\n",
    "p = 3\n",
    "N = zeros(p)\n",
    "for i in 1:p\n",
    "    N[i] = Int(floor(3^(i+2)))\n",
    "end\n",
    "\n",
    "err_single=zeros(p, K+1)\n",
    "# Parareal Solution\n",
    "for i in 1:p\n",
    "    Uk, Ufine, tval=parareal(Float32, a, b, u0, convert(Int, N[i]), Fs, Gs, K)\n",
    "\n",
    "    # stroing errors\n",
    "    \n",
    "    for k in 1:K+1\n",
    "        err_single[i, k]=norm(Uk[k].-Ufine)\n",
    "    end\n",
    "\n",
    "end\n",
    "\n",
    "using Plots\n",
    "plot(err_single[1,:], yaxis=:log, xlabel=\"Number of iterations\", ylabel=\"error\", label=\"N=3^3\", title=\"Single precision parareal\")\n",
    "for j in 2:p\n",
    "    plot!(err_single[j,:], yaxis=:log, xlabel=\"Number of iterations\", ylabel=\"error\", label=\"N=3^$(j+2)\")\n",
    "end\n",
    "display(plot!(legend=:topright))"
   ]
  },
  {
   "cell_type": "markdown",
   "id": "ec10f971",
   "metadata": {},
   "source": [
    "# Convergence Analysis of Parareal Algorithm in Half Precision"
   ]
  },
  {
   "cell_type": "code",
   "execution_count": null,
   "id": "49bd6e76",
   "metadata": {},
   "outputs": [],
   "source": [
    "# Convergence Analysis in uniform half precision.\n",
    "a=0\n",
    "b=1\n",
    "u0=1\n",
    "nF=1000 # Fine grid\n",
    "nG=15 # Coarse grid\n",
    "K=100 # Number of iteration\n",
    "p = 3\n",
    "N = zeros(p)\n",
    "for i in 1:p\n",
    "    N[i] = Int(floor(2^(i+2)))\n",
    "end\n",
    "\n",
    "err_half=zeros(p, K+1)\n",
    "# Parareal Solution\n",
    "for i in 1:p\n",
    "    Uk, Ufine, tval=parareal(Float16, a, b, u0, convert(Int, N[i]), Fs, Gs, K)\n",
    "\n",
    "    # stroing errors\n",
    "    \n",
    "    for k in 1:K+1\n",
    "        err_half[i, k]=norm(Uk[k]-Ufine)\n",
    "    end\n",
    "\n",
    "end\n",
    "\n",
    "using Plots\n",
    "plot(err_half[1,:], yaxis=:log, xlabel=\"Number of iterations\", ylabel=\"error\", label=\"N=2^3\", title=\"Half precision parareal\")\n",
    "for j in 2:p\n",
    "    plot!(err_half[j,:], yaxis=:log, xlabel=\"Number of iterations\", ylabel=\"error\", label=\"N=2^$(j+2)\")\n",
    "end\n",
    "display(plot!(legend=:topright))"
   ]
  },
  {
   "cell_type": "markdown",
   "id": "bd68068c",
   "metadata": {},
   "source": [
    "# Modified Parareal Algorithm in Mixed (Single and Double) Precision"
   ]
  },
  {
   "cell_type": "code",
   "execution_count": null,
   "id": "b84e0f1e",
   "metadata": {},
   "outputs": [],
   "source": [
    "# Modified Parareal method in mixed (Single and Double) precision\n",
    "function mmsdparareal(::Type{T}, a, b, u0, N, F, G, K) where T<:AbstractFloat\n",
    "    # a= start time value (t0)\n",
    "    # b= End time value (tend)\n",
    "    # N= Number of Subinterval\n",
    "    # u0=initial Solution\n",
    "    # F= Fine Solver\n",
    "    # G= Coarse Solver\n",
    "    # K= Parareal iteration\n",
    "    \n",
    "    tval=Vector(range(a, b, N+1))\n",
    "    # Storing Fine Solution on each time step for comparison\n",
    "    Ufine=Vector{Float64}(undef, N+1)\n",
    "    Ufine[1]=u0\n",
    "    for i in 1:N\n",
    "        Ufine[i+1]=F(Float64, tval[i], tval[i+1], Ufine[i])\n",
    "    end\n",
    "    # Initializing Uk\n",
    "    Uk=[Vector{Float64}(undef, N+1) for k in 1:K+1]\n",
    "    #Storing the initial solution\n",
    "    for k in 1:K+1\n",
    "        Uk[k][1]=u0\n",
    "    end\n",
    "    # Parareal Initialization\n",
    "    for j in 1:N\n",
    "        #Uk[1][j+1]=G(tval[j], tval[j+1], Uk[1][j])\n",
    "        Uk[1][j+1]=Float32(10) # may take random initial guess\n",
    "    end\n",
    "    # Parareal loop\n",
    "    δUk=[Vector{Float32}(undef, N+1) for k in 1:K+1]\n",
    "    for k in 1:K\n",
    "        for i in 1:N\n",
    "            δUk[k][i]=Uk[k+1][i]-Uk[k][i]\n",
    "            Fk0=F(Float64,Float64(tval[i]), Float64(tval[i+1]), Uk[k][i])\n",
    "            Gk=G(Float32, Float32(tval[i]), Float32(tval[i+1]), δUk[k][i])\n",
    "            \n",
    "            Uk[k+1][i+1]=Fk0 + Gk\n",
    "        end\n",
    "    end\n",
    "    \n",
    "    return Uk, Ufine, tval, δUk\n",
    "  \n",
    "end"
   ]
  },
  {
   "cell_type": "code",
   "execution_count": null,
   "id": "cdb21b2f",
   "metadata": {},
   "outputs": [],
   "source": [
    "function mmsdFs(Float64, a, b, u0)\n",
    "    t, u=backeuler(Float64, a, b, Float64(u0), nF)\n",
    "    return u[end]\n",
    "end"
   ]
  },
  {
   "cell_type": "code",
   "execution_count": null,
   "id": "f7424fc2",
   "metadata": {},
   "outputs": [],
   "source": [
    "function mmsdGs(Float32, a, b, u0)\n",
    "    t, u=backeuler(Float32, a, b, Float32(u0), nG)\n",
    "    return u[end]\n",
    "end"
   ]
  },
  {
   "cell_type": "markdown",
   "id": "9b40ca9b",
   "metadata": {},
   "source": [
    "# Convergence Analysis of Parareal Algorithm in Mixed (Single and Double) Precision"
   ]
  },
  {
   "cell_type": "code",
   "execution_count": null,
   "id": "9d5578c7",
   "metadata": {},
   "outputs": [],
   "source": [
    "a=0\n",
    "b=1\n",
    "u0=1\n",
    "nF=1000 # Fine grid\n",
    "nG=15# Coarse grid\n",
    "K=7 # Number of iteration\n",
    "\n",
    "p = 3\n",
    "N = zeros(p)\n",
    "for i in 1:p\n",
    "    N[i] = Int(floor(10^(i+2)))\n",
    "end\n",
    "\n",
    "err_msd=zeros(p, K+1)\n",
    "# Parareal Solution\n",
    "for i in 1:p\n",
    "    Uk, Ufine, tval, δUk=mmsdparareal(Float64, a, b, u0, convert(Int, N[i]), mmsdFs, mmsdGs, K)\n",
    "\n",
    "    # stroing errors\n",
    "    \n",
    "    for k in 1:K+1\n",
    "        err_msd[i, k]=norm(Uk[k]-Ufine)\n",
    "    end\n",
    "end\n",
    "\n",
    "using Plots\n",
    "plot(err_msd[1,:], yaxis=:log, xlabel=\"Number of iterations\", ylabel=\"error\", label=\"N=10^3\",title=\"Mixed(Single and Double) precision parareal\")\n",
    "for j in 2:p\n",
    "    plot!(err_msd[j,:], yaxis=:log, xlabel=\"Number of iterations\", ylabel=\"error\", label=\"N=10^$(j+2)\")\n",
    "end\n",
    "display(plot!(legend=:topright))"
   ]
  },
  {
   "cell_type": "markdown",
   "id": "4bc3c26b",
   "metadata": {},
   "source": [
    "# Modified Parareal Algorithm in Mixed (Half and Double) Precision"
   ]
  },
  {
   "cell_type": "code",
   "execution_count": null,
   "id": "a0933975",
   "metadata": {},
   "outputs": [],
   "source": [
    "# Modified Parareal method in mixed (Half and Double) precision\n",
    "function mmhdparareal(::Type{T}, a, b, u0, N, F, G, K) where T<:AbstractFloat\n",
    "    # a= start time value (t0)\n",
    "    # b= End time value (tend)\n",
    "    # N= Number of Subinterval\n",
    "    # u0=initial Solution\n",
    "    # F= Fine Solver\n",
    "    # G= Coarse Solver\n",
    "    # K= Parareal iteration\n",
    "    \n",
    "    tval=Vector(range(a, b, N+1))\n",
    "    # Storing Fine Solution on each time step for comparison\n",
    "    Ufine=Vector{Float64}(undef, N+1)\n",
    "    Ufine[1]=u0\n",
    "    for i in 1:N\n",
    "        Ufine[i+1]=F(Float64, tval[i], tval[i+1], Ufine[i])\n",
    "    end\n",
    "    # Initializing Uk\n",
    "    Uk=[Vector{Float64}(undef, N+1) for k in 1:K+1]\n",
    "    #Storing the initial solution\n",
    "    for k in 1:K+1\n",
    "        Uk[k][1]=u0\n",
    "    end\n",
    "    # Parareal Initialization\n",
    "    for j in 1:N\n",
    "        #Uk[1][j+1]=G(tval[j], tval[j+1], Uk[1][j])\n",
    "        Uk[1][j+1]=Float16(10) # may take random initial guess\n",
    "    end\n",
    "    # Parareal loop\n",
    "    δUk=[Vector{Float16}(undef, N+1) for k in 1:K+1]\n",
    "    for k in 1:K\n",
    "        for i in 1:N\n",
    "            δUk[k][i]=Uk[k+1][i]-Uk[k][i]\n",
    "            Fk0=F(Float64,Float64(tval[i]), Float64(tval[i+1]), Uk[k][i])\n",
    "            Gk=G(Float16, Float16(tval[i]), Float16(tval[i+1]), δUk[k][i])\n",
    "            \n",
    "            Uk[k+1][i+1]=Fk0 + Gk\n",
    "        end\n",
    "    end\n",
    "    \n",
    "    return Uk, Ufine, tval, δUk\n",
    "  \n",
    "end"
   ]
  },
  {
   "cell_type": "code",
   "execution_count": null,
   "id": "09c4ea4f",
   "metadata": {},
   "outputs": [],
   "source": [
    "function mmhdFs(Float64, a, b, u0)\n",
    "    t, u=backeuler(Float64, a, b, Float64(u0), nF)\n",
    "    return u[end]\n",
    "end"
   ]
  },
  {
   "cell_type": "code",
   "execution_count": null,
   "id": "22ed1582",
   "metadata": {},
   "outputs": [],
   "source": [
    "function mmhdGs(Float16, a, b, u0)\n",
    "    t, u=backeuler(Float16, a, b, Float16(u0), nG)\n",
    "    return u[end]\n",
    "end"
   ]
  },
  {
   "cell_type": "markdown",
   "id": "71ff54f2",
   "metadata": {},
   "source": [
    "# Convergence Analysis of Modified Parareal Algorithm in Mixed (Half and Double) Precision"
   ]
  },
  {
   "cell_type": "code",
   "execution_count": null,
   "id": "2ffa9868",
   "metadata": {},
   "outputs": [],
   "source": [
    "a=0\n",
    "b=1\n",
    "u0=1\n",
    "\n",
    "nF=1000 # Fine grid\n",
    "nG=15# Coarse grid\n",
    "K=50 # Number of iteration\n",
    "\n",
    "\n",
    "p = 3\n",
    "N = zeros(p)\n",
    "for i in 1:p\n",
    "    N[i] = Int(floor(3^(i+2)))\n",
    "end\n",
    "\n",
    "err_mhd=zeros(p, K+1)\n",
    "# Parareal Solution\n",
    "for i in 1:p\n",
    "    Uk, Ufine, tval, δUk = mmhdparareal(Float64, a, b, u0, convert(Int, N[i]), mmhdFs, mmhdGs, K)\n",
    "\n",
    "    # stroing errors\n",
    "    \n",
    "    for k in 1:K+1\n",
    "        err_mhd[i, k]=norm(Uk[k]-Ufine)\n",
    "    end\n",
    "end\n",
    "\n",
    "using Plots\n",
    "plot(err_mhd[1,:], yaxis=:log, xlabel=\"Number of iterations\", ylabel=\"error\", label=\"N=3^3\", title=\"Mixed(Half and double) precision parareal\")\n",
    "for j in 2:p\n",
    "    plot!(err_mhd[j,:], yaxis=:log, xlabel=\"Number of iterations\", ylabel=\"error\", label=\"N=3^$(j+2)\")\n",
    "end\n",
    "display(plot!(legend=:topright))"
   ]
  },
  {
   "cell_type": "code",
   "execution_count": null,
   "id": "4f28f52c",
   "metadata": {},
   "outputs": [],
   "source": [
    "err_mhd"
   ]
  },
  {
   "cell_type": "code",
   "execution_count": null,
   "id": "ab0e6d79",
   "metadata": {},
   "outputs": [],
   "source": []
  }
 ],
 "metadata": {
  "kernelspec": {
   "display_name": "Julia 1.7.1",
   "language": "julia",
   "name": "julia-1.7"
  },
  "language_info": {
   "file_extension": ".jl",
   "mimetype": "application/julia",
   "name": "julia",
   "version": "1.7.1"
  }
 },
 "nbformat": 4,
 "nbformat_minor": 5
}
