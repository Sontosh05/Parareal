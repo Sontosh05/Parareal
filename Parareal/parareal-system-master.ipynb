{
 "cells": [
  {
   "cell_type": "code",
   "execution_count": 1,
   "id": "b8a3badb",
   "metadata": {},
   "outputs": [
    {
     "data": {
      "text/plain": [
       "Lorenz (generic function with 1 method)"
      ]
     },
     "execution_count": 1,
     "metadata": {},
     "output_type": "execute_result"
    }
   ],
   "source": [
    "function Lorenz(::Type{T}, t, u) where T<:AbstractFloat\n",
    "    \n",
    "    σ = 10 # parameters for Lorenz\n",
    "    ρ = 28 \n",
    "    β = 8/3\n",
    "    y1::T = σ*(u[2]-u[1])\n",
    "    y2::T = ρ*u[1]-u[2]-u[1]*u[3]\n",
    "    y3::T = u[1]*u[2]-β*u[3]\n",
    "   \n",
    "    return [y1; y2; y3]\n",
    "end"
   ]
  },
  {
   "cell_type": "code",
   "execution_count": 2,
   "id": "2ab5e993",
   "metadata": {},
   "outputs": [
    {
     "data": {
      "text/plain": [
       "FE (generic function with 1 method)"
      ]
     },
     "execution_count": 2,
     "metadata": {},
     "output_type": "execute_result"
    }
   ],
   "source": [
    "using LinearAlgebra\n",
    "function FE(::Type{T}, f, a, b, u0, N) where T<:AbstractFloat\n",
    "    ndf = length(u0)\n",
    "    u = Matrix{T}(undef, ndf, N+1)\n",
    "    dt = (b-a)/N\n",
    "    t = Vector(range(a, b, length=N+1))\n",
    "    u[:, 1] = u0\n",
    "    for i in 1:N\n",
    "        u[:, i+1] = u[:, i] .+ dt * Lorenz(T ,t[i], u[:, i])\n",
    "    end\n",
    "    return t, u\n",
    "end"
   ]
  },
  {
   "cell_type": "code",
   "execution_count": 3,
   "id": "e621c290",
   "metadata": {},
   "outputs": [
    {
     "data": {
      "text/plain": [
       "([0.0, 0.1, 0.2, 0.3, 0.4, 0.5, 0.6, 0.7, 0.8, 0.9, 1.0], [20.0 5.0 … 2.2081236989294834e14 -3.8433116135573024e21; 5.0 70.5 … -3.8433116135573024e21 -1.849215884989871e35; -5.0 6.333333333333334 … 8.374602771965861e21 -8.486507456266178e34])"
      ]
     },
     "execution_count": 3,
     "metadata": {},
     "output_type": "execute_result"
    }
   ],
   "source": [
    "a = 0\n",
    "b = 1\n",
    "u0 = [20; 5; -5]\n",
    "N = 10\n",
    "t, u = FE(Float64, Lorenz, a, b, u0, N)"
   ]
  },
  {
   "cell_type": "code",
   "execution_count": 4,
   "id": "a1fe92a5",
   "metadata": {},
   "outputs": [
    {
     "data": {
      "text/plain": [
       "parareal (generic function with 1 method)"
      ]
     },
     "execution_count": 4,
     "metadata": {},
     "output_type": "execute_result"
    }
   ],
   "source": [
    "# Parareal method\n",
    "function parareal(::Type{T}, a, b, u0, N, F, G, K) where T<:AbstractFloat\n",
    "    # a= start time value (t0)\n",
    "    # b= End time value (tend)\n",
    "    # N= Number of Subinterval\n",
    "    # u0=initial Solution\n",
    "    # F= Fine Solver\n",
    "    # G= Coarse Solver\n",
    "    # K= Parareal iteration\n",
    "    ndf=length(u0)\n",
    "    tval=Vector(range(a, b, N+1))\n",
    "    # Storing Fine Solution on each time step for comparison\n",
    "    Ufine=Matrix{T}(undef, ndf, N+1)\n",
    "    Ufine[:,1]=u0\n",
    "    for i in 1:N\n",
    "        Ufine[:, i+1]=F(T, tval[i], tval[i+1], Ufine[:, i])\n",
    "    end\n",
    "    # Initializing Uk\n",
    "    Uk::Vector{Vector{T}}=[zeros(ndf, N+1) for k in 1:K+1]\n",
    "    #Storing the initial solution\n",
    "    for k in 1:K+1\n",
    "        Uk[k][1]=u0\n",
    "    end\n",
    "    # Parareal Initialization\n",
    "    for j in 1:N\n",
    "        #Uk[1][j+1]=G(tval[j], tval[j+1], Uk[1][j])\n",
    "        Uk[1][j+1]= 10.0 # May take random initial guess\n",
    "    end\n",
    "    # Parareal loop\n",
    "    for k in 1:K\n",
    "        for i in 1:N\n",
    "            Fk0=F(T, tval[i], tval[i+1], Uk[k][i])\n",
    "            Gk0=G(T, tval[i], tval[i+1], Uk[k][i])\n",
    "            Gk1=G(T, tval[i], tval[i+1], Uk[k+1][i])\n",
    "            \n",
    "            Uk[k+1][i+1]=Fk0 + Gk1 - Gk0\n",
    "        end\n",
    "    end\n",
    "    \n",
    "    return Uk, Ufine, tval\n",
    "  \n",
    "end"
   ]
  },
  {
   "cell_type": "code",
   "execution_count": 5,
   "id": "b73988b3",
   "metadata": {},
   "outputs": [
    {
     "data": {
      "text/plain": [
       "Fs (generic function with 1 method)"
      ]
     },
     "execution_count": 5,
     "metadata": {},
     "output_type": "execute_result"
    }
   ],
   "source": [
    "function Fs(::Type{T},a, b, u0) where T<:AbstractFloat\n",
    "    t, u=FE(T, Lorenz, a, b, u0, N)\n",
    "    return u[end]\n",
    "end"
   ]
  },
  {
   "cell_type": "code",
   "execution_count": 6,
   "id": "75a833f8",
   "metadata": {},
   "outputs": [
    {
     "data": {
      "text/plain": [
       "Gs (generic function with 1 method)"
      ]
     },
     "execution_count": 6,
     "metadata": {},
     "output_type": "execute_result"
    }
   ],
   "source": [
    "function Gs(::Type{T},a, b, u0) where T<:AbstractFloat\n",
    "    t, u=FE(T, Lorenz, a, b, u0, N)\n",
    "    return u[end]\n",
    "end"
   ]
  },
  {
   "cell_type": "code",
   "execution_count": 7,
   "id": "4d64672b",
   "metadata": {},
   "outputs": [
    {
     "ename": "LoadError",
     "evalue": "MethodError: no method matching +(::Vector{Float64}, ::Int64)\nFor element-wise addition, use broadcasting with dot syntax: array .+ scalar\n\u001b[0mClosest candidates are:\n\u001b[0m  +(::Any, ::Any, \u001b[91m::Any\u001b[39m, \u001b[91m::Any...\u001b[39m) at /Applications/Julia-1.7.app/Contents/Resources/julia/share/julia/base/operators.jl:655\n\u001b[0m  +(\u001b[91m::T\u001b[39m, ::T) where T<:Union{Int128, Int16, Int32, Int64, Int8, UInt128, UInt16, UInt32, UInt64, UInt8} at /Applications/Julia-1.7.app/Contents/Resources/julia/share/julia/base/int.jl:87\n\u001b[0m  +(\u001b[91m::UniformScaling\u001b[39m, ::Number) at /Applications/Julia-1.7.app/Contents/Resources/julia/share/julia/stdlib/v1.7/LinearAlgebra/src/uniformscaling.jl:145\n\u001b[0m  ...",
     "output_type": "error",
     "traceback": [
      "MethodError: no method matching +(::Vector{Float64}, ::Int64)\nFor element-wise addition, use broadcasting with dot syntax: array .+ scalar\n\u001b[0mClosest candidates are:\n\u001b[0m  +(::Any, ::Any, \u001b[91m::Any\u001b[39m, \u001b[91m::Any...\u001b[39m) at /Applications/Julia-1.7.app/Contents/Resources/julia/share/julia/base/operators.jl:655\n\u001b[0m  +(\u001b[91m::T\u001b[39m, ::T) where T<:Union{Int128, Int16, Int32, Int64, Int8, UInt128, UInt16, UInt32, UInt64, UInt8} at /Applications/Julia-1.7.app/Contents/Resources/julia/share/julia/base/int.jl:87\n\u001b[0m  +(\u001b[91m::UniformScaling\u001b[39m, ::Number) at /Applications/Julia-1.7.app/Contents/Resources/julia/share/julia/stdlib/v1.7/LinearAlgebra/src/uniformscaling.jl:145\n\u001b[0m  ...",
      "",
      "Stacktrace:",
      " [1] FE(#unused#::Type{Float64}, f::Function, a::Float64, b::Float64, u0::Vector{Float64}, N::Vector{Float64})",
      "   @ Main ./In[2]:4",
      " [2] Fs(#unused#::Type{Float64}, a::Float64, b::Float64, u0::Vector{Float64})",
      "   @ Main ./In[5]:2",
      " [3] parareal(#unused#::Type{Float64}, a::Int64, b::Int64, u0::Vector{Int64}, N::Int64, F::typeof(Fs), G::typeof(Gs), K::Int64)",
      "   @ Main ./In[4]:16",
      " [4] top-level scope",
      "   @ ./In[7]:21"
     ]
    }
   ],
   "source": [
    "# Convergence Analysis in uniform double precision\n",
    "a=0\n",
    "b=1\n",
    "u0=[20; -5; 5]\n",
    "\n",
    "#exact=exp.((t.^3)/3)\n",
    "\n",
    "\n",
    "nF=1000 # Fine grid\n",
    "nG=15 # Coarse grid\n",
    "K=100 # Number of iteration\n",
    "p = 3\n",
    "N = zeros(p)\n",
    "for i in 1:p\n",
    "    N[i] = Int(floor(3^(i+2)))\n",
    "end\n",
    "\n",
    "err=zeros(p, K+1)\n",
    "# Parareal Solution\n",
    "for i in 1:p\n",
    "    Uk, Ufine, tval=parareal(Float64, a, b, u0, convert(Int, N[i]), Fs, Gs, K)\n",
    "\n",
    "    # stroing errors\n",
    "    \n",
    "    for k in 1:K+1\n",
    "        err[i, k]=norm(Uk[k]-Ufine)\n",
    "    end\n",
    "\n",
    "end\n",
    "\n",
    "using Plots\n",
    "plot(err[1,:], yaxis=:log, xlabel=\"Number of iterations\", ylabel=\"error\", label=\"N=3^3\")\n",
    "for j in 2:p\n",
    "    plot!(err[j,:], yaxis=:log, xlabel=\"Number of iterations\", ylabel=\"error\", label=\"N=3^$(j+2)\")\n",
    "end\n",
    "display(plot!(legend=:topright))"
   ]
  },
  {
   "cell_type": "code",
   "execution_count": null,
   "id": "9413b81a",
   "metadata": {},
   "outputs": [],
   "source": []
  }
 ],
 "metadata": {
  "kernelspec": {
   "display_name": "Julia 1.7.1",
   "language": "julia",
   "name": "julia-1.7"
  },
  "language_info": {
   "file_extension": ".jl",
   "mimetype": "application/julia",
   "name": "julia",
   "version": "1.7.1"
  }
 },
 "nbformat": 4,
 "nbformat_minor": 5
}
